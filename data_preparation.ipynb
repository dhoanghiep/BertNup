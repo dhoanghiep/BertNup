{
 "cells": [
  {
   "cell_type": "code",
   "execution_count": 1,
   "metadata": {
    "executionInfo": {
     "elapsed": 521,
     "status": "ok",
     "timestamp": 1669893693802,
     "user": {
      "displayName": "Hoàng Hiệp Đặng",
      "userId": "02927390567667371774"
     },
     "user_tz": -420
    },
    "id": "UAtyVwkJau3t"
   },
   "outputs": [],
   "source": [
    "from preprocess.data_preparation import k_fold_split"
   ]
  },
  {
   "cell_type": "code",
   "execution_count": 2,
   "metadata": {
    "executionInfo": {
     "elapsed": 862,
     "status": "ok",
     "timestamp": 1669895414958,
     "user": {
      "displayName": "Hoàng Hiệp Đặng",
      "userId": "02927390567667371774"
     },
     "user_tz": -420
    },
    "id": "bpXXfqobfrhF"
   },
   "outputs": [],
   "source": [
    "data_paths = ['Data/Dataset_1/Hsapiens.fas',\n",
    "              'Data/Dataset_1/Celegans.fas',\n",
    "              'Data/Dataset_1/Dmelanogaster.fas',\n",
    "              'Data/Dataset_2/DM_5U.fas',\n",
    "              'Data/Dataset_2/DM_LC.fas',\n",
    "              'Data/Dataset_2/DM_PM.fas',\n",
    "              'Data/Dataset_2/HS_5U.fas',\n",
    "              'Data/Dataset_2/HS_LC.fas',\n",
    "              'Data/Dataset_2/HS_PM.fas',\n",
    "              'Data/Dataset_2/Y_PM.fas',\n",
    "              'Data/Dataset_2/Y_WG.fas',\n",
    "              ]"
   ]
  },
  {
   "cell_type": "code",
   "execution_count": 3,
   "metadata": {
    "colab": {
     "base_uri": "https://localhost:8080/"
    },
    "executionInfo": {
     "elapsed": 36184,
     "status": "ok",
     "timestamp": 1669895453302,
     "user": {
      "displayName": "Hoàng Hiệp Đặng",
      "userId": "02927390567667371774"
     },
     "user_tz": -420
    },
    "id": "m4BDYb7Nd6xh",
    "outputId": "1a2814bb-97cb-4302-d42d-961a682ca3c1",
    "scrolled": true
   },
   "outputs": [
    {
     "name": "stdout",
     "output_type": "stream",
     "text": [
      "Split Data/Dataset_1/Hsapiens.fas to 10 groups, saved to Data/Stratified_K_fold_data/Hsapiens\n",
      "Split Data/Dataset_1/Celegans.fas to 10 groups, saved to Data/Stratified_K_fold_data/Celegans\n",
      "Split Data/Dataset_1/Dmelanogaster.fas to 10 groups, saved to Data/Stratified_K_fold_data/Dmelanogaster\n",
      "Split Data/Dataset_2/DM_5U.fas to 10 groups, saved to Data/Stratified_K_fold_data/DM_5U\n",
      "Split Data/Dataset_2/DM_LC.fas to 10 groups, saved to Data/Stratified_K_fold_data/DM_LC\n",
      "Split Data/Dataset_2/DM_PM.fas to 10 groups, saved to Data/Stratified_K_fold_data/DM_PM\n",
      "Split Data/Dataset_2/HS_5U.fas to 10 groups, saved to Data/Stratified_K_fold_data/HS_5U\n",
      "Split Data/Dataset_2/HS_LC.fas to 10 groups, saved to Data/Stratified_K_fold_data/HS_LC\n",
      "Split Data/Dataset_2/HS_PM.fas to 10 groups, saved to Data/Stratified_K_fold_data/HS_PM\n",
      "Split Data/Dataset_2/Y_PM.fas to 10 groups, saved to Data/Stratified_K_fold_data/Y_PM\n",
      "Split Data/Dataset_2/Y_WG.fas to 10 groups, saved to Data/Stratified_K_fold_data/Y_WG\n"
     ]
    }
   ],
   "source": [
    "for data_path in data_paths:\n",
    "    k_fold_split(data_path = data_path, save_dir = 'Data/Stratified_K_fold_data', n_splits = 10)"
   ]
  }
 ],
 "metadata": {
  "accelerator": "GPU",
  "colab": {
   "authorship_tag": "ABX9TyOW6HayTmzYsGwgKkrrr5uG",
   "mount_file_id": "1jN0RG5uN7qLevtvAycop9aBNnKF73Anp",
   "provenance": []
  },
  "gpuClass": "standard",
  "kernelspec": {
   "display_name": "Python 3 (ipykernel)",
   "language": "python",
   "name": "python3"
  },
  "language_info": {
   "codemirror_mode": {
    "name": "ipython",
    "version": 3
   },
   "file_extension": ".py",
   "mimetype": "text/x-python",
   "name": "python",
   "nbconvert_exporter": "python",
   "pygments_lexer": "ipython3",
   "version": "3.9.12"
  }
 },
 "nbformat": 4,
 "nbformat_minor": 4
}
